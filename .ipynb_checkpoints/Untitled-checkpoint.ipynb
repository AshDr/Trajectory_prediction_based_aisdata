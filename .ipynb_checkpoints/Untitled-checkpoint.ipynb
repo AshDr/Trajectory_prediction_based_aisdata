{
 "cells": [
  {
   "cell_type": "code",
   "execution_count": 10,
   "id": "9f9471e2",
   "metadata": {},
   "outputs": [],
   "source": [
    "import copy\n",
    "\n",
    "import torch\n",
    "from torch import nn\n",
    "from torch.utils.data import Dataset, DataLoader\n",
    "import os\n",
    "import pandas as pd\n",
    "import matplotlib.pyplot as plt\n",
    "import numpy as np\n",
    "\n",
    "from pandas.core.frame import DataFrame"
   ]
  },
  {
   "cell_type": "code",
   "execution_count": 11,
   "id": "6b686adb",
   "metadata": {
    "scrolled": true
   },
   "outputs": [],
   "source": [
    "class Net(nn.Module):\n",
    "    def __init__(self, feature_size, size_hidden, dropout=0):\n",
    "        super().__init__()\n",
    "        self.feature_size = feature_size\n",
    "        self.size_hidden = size_hidden\n",
    "        self.rnn = nn.LSTM(input_size=feature_size, hidden_size=size_hidden, dropout=dropout, batch_first=True)\n",
    "\n",
    "    def forward(self, input):\n",
    "        output, _ = self.rnn(input)\n",
    "        return output"
   ]
  },
  {
   "cell_type": "code",
   "execution_count": 12,
   "id": "03752325",
   "metadata": {},
   "outputs": [],
   "source": [
    "useful_tag = ['X', 'Y', 'SOG', 'COG', 'Heading']\n",
    "predict_tag = ['X', 'Y']\n",
    "len_topredict = 10\n",
    "features = ['MMSI', 'BaseDateTime', 'X', 'Y', 'SOG', 'COG', 'Heading', 'Status']\n",
    "data_file_root_path = './data/path_data/'\n",
    "ratio = 0.8"
   ]
  },
  {
   "cell_type": "code",
   "execution_count": 13,
   "id": "eb814964",
   "metadata": {},
   "outputs": [],
   "source": [
    "class MyDataSet(Dataset):\n",
    "    def __init__(self, df: DataFrame):\n",
    "        self.x_data = df[useful_tag].astype('float32').values\n",
    "        self.y_data = df[predict_tag].astype('float32').values\n",
    "        self.length = len(self.x_data)\n",
    "\n",
    "    def __getitem__(self, index):\n",
    "        return self.x_data[index], self.y_data[index]\n",
    "\n",
    "    def __len__(self):\n",
    "        return self.length"
   ]
  },
  {
   "cell_type": "code",
   "execution_count": 14,
   "id": "9ada6570",
   "metadata": {},
   "outputs": [],
   "source": [
    "tmp_lst = []\n",
    "for i in range(10):\n",
    "    data_file_path = data_file_root_path + 'id' + str(i) + '/'\n",
    "\n",
    "    \"\"\"\n",
    "        还要做一步归一化\n",
    "    \"\"\"\n",
    "    file_lst = os.listdir(data_file_path)\n",
    "    for filename in file_lst:\n",
    "        path = data_file_path + filename\n",
    "        df = pd.read_csv(path)\n",
    "        if i == 1:\n",
    "            dataset = MyDataSet(df)\n",
    "            \n",
    "            for j in range(len_topredict, len(dataset)):\n",
    "                X, y = dataset.x_data[j - len_topredict:j], dataset.y_data[j - len_topredict:j]\n",
    "                tmp_lst.append((X, y))\n",
    "            # train_loader = DataLoader(dataset=dataset, batch_size=3)  # 这里batch_size就是一次从一个轨迹中取几个点\n",
    "            for j, data in enumerate(tmp_lst):\n",
    "                inputs, labels = data"
   ]
  },
  {
   "cell_type": "code",
   "execution_count": 17,
   "id": "6d543e7d",
   "metadata": {},
   "outputs": [],
   "source": [
    "net = Net(4, 10, 0)\n",
    "n = torch.rand(12, 4)\n",
    "out = net(n)  # [seqlen, hidden_size]\n",
    "loss = nn.MSELoss(reduction='none')"
   ]
  },
  {
   "cell_type": "code",
   "execution_count": null,
   "id": "bb6ecfc8",
   "metadata": {},
   "outputs": [],
   "source": []
  },
  {
   "cell_type": "code",
   "execution_count": null,
   "id": "bad12100",
   "metadata": {},
   "outputs": [],
   "source": []
  }
 ],
 "metadata": {
  "kernelspec": {
   "display_name": "Python 3 (ipykernel)",
   "language": "python",
   "name": "python3"
  },
  "language_info": {
   "codemirror_mode": {
    "name": "ipython",
    "version": 3
   },
   "file_extension": ".py",
   "mimetype": "text/x-python",
   "name": "python",
   "nbconvert_exporter": "python",
   "pygments_lexer": "ipython3",
   "version": "3.10.9"
  }
 },
 "nbformat": 4,
 "nbformat_minor": 5
}
